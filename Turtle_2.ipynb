{
 "cells": [
  {
   "cell_type": "markdown",
   "id": "6a87b68d",
   "metadata": {},
   "source": [
    "# Turtle Programming - Les 2\n",
    "In deze les gaan we verder met het programmeren van een schildpad. We komen steeds dichterbij het daadwerkelijk vliegen van de drones, maar er zal nog even geoefenend moeten worden. Tijdens de les zijn er 2 nieuwe `functies` uitgelegd. Dit zijn namelijk `.pencolor()` en `.circle()`. Ook hebben we tijdens de les besproken hoe, als je herhalende code hebt, dit kan minimaliseren door gebruik te maken van een `for-range loop`.\n",
    "\n",
    "## .pencolor()\n",
    "Deze functie wordt gebruikt om de kleur van de lijn die de schildpad tekent te veranderen. Tusssen de () zet je welke kleur je wilt. **Let op, dit is een `string` waarde, dus deze moet tussen \"\"**!"
   ]
  },
  {
   "cell_type": "code",
   "execution_count": null,
   "id": "b3522c59",
   "metadata": {},
   "outputs": [],
   "source": [
    "from mobilechelonian import Turtle\n",
    "t = Turtle()\n",
    "t.pencolor(\"Red\")\n",
    "t.forward(100)"
   ]
  },
  {
   "cell_type": "markdown",
   "id": "3ebab938",
   "metadata": {},
   "source": [
    "## .circle()\n",
    "Om een cirkel te tekenen maken we gebruik van de `.circle()` functie. Tussen de () zet je de radius van de cirkel (dus hoe groot dat de cirkel wordt)"
   ]
  },
  {
   "cell_type": "code",
   "execution_count": null,
   "id": "8a9c3e00",
   "metadata": {},
   "outputs": [],
   "source": [
    "t = Turtle()\n",
    "t.circle(50)"
   ]
  },
  {
   "cell_type": "markdown",
   "id": "432fef47",
   "metadata": {},
   "source": [
    "## Loops gebruiken met de schildpad\n",
    "Als we bijvoorbeeld een vierkant willen tekenen kunnen we gebruik maken van de onderstaande code."
   ]
  },
  {
   "cell_type": "code",
   "execution_count": null,
   "id": "25483b76",
   "metadata": {},
   "outputs": [],
   "source": [
    "t = Turtle()\n",
    "t.forward(100)\n",
    "t.right(90)\n",
    "t.forward(100)\n",
    "t.right(90)\n",
    "t.forward(100)\n",
    "t.right(90)\n",
    "t.forward(100)"
   ]
  },
  {
   "cell_type": "markdown",
   "id": "d2cf9cd3",
   "metadata": {},
   "source": [
    "Zoals je ziet bestaat dit programma uit 3 verschillende regels code, 2 die de hele tijd herhaald worden. Als we herhalende code hebben, dan kunnen we gebruik maken van een `for-range loop` om deze code voor ons uit te voeren. We zetten in de `range()` hoevaak dat de code herhaald moet worden. In dit geval moet de code `4` keer herhaald worden om een `vierkant` te tekenen."
   ]
  },
  {
   "cell_type": "code",
   "execution_count": null,
   "id": "2927a2ed",
   "metadata": {},
   "outputs": [],
   "source": [
    "t = Turtle()\n",
    "for num in range(4):\n",
    "    t.forward(100)\n",
    "    t.right(90)"
   ]
  },
  {
   "cell_type": "markdown",
   "id": "d83d13df",
   "metadata": {},
   "source": [
    "Zoals je ziet is de hoeveelheid code heel wat minder geworden en ook een stuk overzichtelijker."
   ]
  },
  {
   "cell_type": "markdown",
   "id": "f4e00328",
   "metadata": {},
   "source": [
    "# Opdrachten"
   ]
  },
  {
   "cell_type": "markdown",
   "id": "c699a673",
   "metadata": {},
   "source": [
    "## Opdracht 1\n",
    "Maak de code af zodat de schildpad een driehoek tekent. Maak gebruik van een `Loop`"
   ]
  },
  {
   "cell_type": "code",
   "execution_count": null,
   "id": "6c66438d",
   "metadata": {},
   "outputs": [],
   "source": [
    "from mobilechelonian import Turtle\n",
    "t = Turtle()\n"
   ]
  },
  {
   "cell_type": "markdown",
   "id": "3a5ea875",
   "metadata": {},
   "source": [
    "## Opdracht 2\n",
    "Zorg dat de robot een cirkel tekent in de kleur `rood`."
   ]
  },
  {
   "cell_type": "code",
   "execution_count": null,
   "id": "c29d347f",
   "metadata": {},
   "outputs": [],
   "source": []
  },
  {
   "cell_type": "markdown",
   "id": "44d6cc5e",
   "metadata": {},
   "source": [
    "## Opdracht 3\n",
    "Zorg dat de robot 4 cirkels tekent, elk met een andere kleur. (de positie mag hetzelfde blijven)"
   ]
  },
  {
   "cell_type": "code",
   "execution_count": null,
   "id": "9ce3f0e8",
   "metadata": {},
   "outputs": [],
   "source": []
  },
  {
   "cell_type": "markdown",
   "id": "59d5ffad",
   "metadata": {},
   "source": [
    "## Opdracht 4\n",
    "Zorg dat de robot 10 cirkels tekent, en elke `oneven` cirkel moet de kleur `blauw` krijgen en elke `even` cirkel `rood`. (de positie mag hetzelfde blijven)"
   ]
  },
  {
   "cell_type": "code",
   "execution_count": null,
   "id": "51077e02",
   "metadata": {},
   "outputs": [],
   "source": []
  },
  {
   "cell_type": "markdown",
   "id": "545abccc",
   "metadata": {},
   "source": [
    "## Opdracht 5\n",
    "Teken een ster met behulp van een `Loop`."
   ]
  },
  {
   "cell_type": "code",
   "execution_count": null,
   "id": "3561ac0e",
   "metadata": {},
   "outputs": [],
   "source": []
  },
  {
   "cell_type": "markdown",
   "id": "8d9cf9c4",
   "metadata": {},
   "source": [
    "## Opdracht 6\n",
    "Maak het programma af zodat alleen de variabelen `aantal_hoeken` aangepast hoeft te worden om een figuur te tekenen met zoveel hoeken. Denk aan hoeveel graden de hoek moet zijn bij een vierkant, vijfhoek, zeshoek, etc. heeft en hoe je dit uit kan rekenen."
   ]
  },
  {
   "cell_type": "code",
   "execution_count": null,
   "id": "9e47129a",
   "metadata": {},
   "outputs": [],
   "source": [
    "t = Turtle()\n",
    "\n",
    "aantal_hoeken = \n",
    "graden_per_hoek = \n",
    "\n",
    "for num in range():\n",
    "    t.forward()\n",
    "    t.right()"
   ]
  }
 ],
 "metadata": {
  "kernelspec": {
   "display_name": "Python 3 (ipykernel)",
   "language": "python",
   "name": "python3"
  },
  "language_info": {
   "codemirror_mode": {
    "name": "ipython",
    "version": 3
   },
   "file_extension": ".py",
   "mimetype": "text/x-python",
   "name": "python",
   "nbconvert_exporter": "python",
   "pygments_lexer": "ipython3",
   "version": "3.9.7"
  }
 },
 "nbformat": 4,
 "nbformat_minor": 5
}
